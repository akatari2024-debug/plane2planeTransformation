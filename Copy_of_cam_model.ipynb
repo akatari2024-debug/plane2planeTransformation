{
  "nbformat": 4,
  "nbformat_minor": 0,
  "metadata": {
    "colab": {
      "provenance": [],
      "include_colab_link": true
    },
    "kernelspec": {
      "name": "python3",
      "display_name": "Python 3"
    },
    "language_info": {
      "name": "python"
    }
  },
  "cells": [
    {
      "cell_type": "markdown",
      "metadata": {
        "id": "view-in-github",
        "colab_type": "text"
      },
      "source": [
        "<a href=\"https://colab.research.google.com/github/akatari2024-debug/plane2planeTransformation/blob/main/Copy_of_cam_model.ipynb\" target=\"_parent\"><img src=\"https://colab.research.google.com/assets/colab-badge.svg\" alt=\"Open In Colab\"/></a>"
      ]
    },
    {
      "cell_type": "code",
      "execution_count": null,
      "metadata": {
        "id": "wqy5xMQeCrxA"
      },
      "outputs": [],
      "source": [
        "%pip install -q opencv-python-headless gradio matplotlib numpy pytransform3d\n"
      ]
    },
    {
      "cell_type": "code",
      "source": [
        "import os, glob, shutil, json, cv2, numpy as np\n",
        "from pathlib import Path\n",
        "\n",
        "# Folders\n",
        "IMDIR = \"/content/images\"\n",
        "OUTDIR = \"/content/out\"\n",
        "os.makedirs(IMDIR, exist_ok=True)\n",
        "os.makedirs(OUTDIR, exist_ok=True)\n",
        "\n",
        "# Pattern constants for your printed board\n",
        "PATTERN_COLS = 9   # inner corners horizontally\n",
        "PATTERN_ROWS = 6   # inner corners vertically\n",
        "SQUARE_SIZE_M = 0.025  # change if your printed squares are not 25 mm\n",
        "PATTERN_SIZE = (PATTERN_COLS, PATTERN_ROWS)\n"
      ],
      "metadata": {
        "id": "8V53H8atC5BQ"
      },
      "execution_count": null,
      "outputs": []
    },
    {
      "cell_type": "code",
      "source": [
        "import matplotlib.pyplot as plt\n",
        "from mpl_toolkits.mplot3d import Axes3D  # noqa: F401\n",
        "\n",
        "class IO:\n",
        "    @staticmethod\n",
        "    def list_images(folder=IMDIR):\n",
        "        exts = (\".jpg\", \".jpeg\", \".JPG\", \".JPEG\")\n",
        "        return sorted([str(p) for p in Path(folder).glob(\"*\") if p.suffix in exts])\n",
        "\n",
        "    @staticmethod\n",
        "    def save_json(data, path=\"calibration.json\"):\n",
        "        with open(path, \"w\") as f:\n",
        "            json.dump(data, f, indent=2)\n",
        "\n",
        "    @staticmethod\n",
        "    def load_json(path=\"calibration.json\"):\n",
        "        with open(path, \"r\") as f:\n",
        "            return json.load(f)\n",
        "\n",
        "class Board:\n",
        "    @staticmethod\n",
        "    def object_points(pattern_size=PATTERN_SIZE, square_size=SQUARE_SIZE_M):\n",
        "        cols, rows = pattern_size\n",
        "        objp = np.zeros((cols*rows, 3), np.float32)\n",
        "        objp[:, :2] = np.mgrid[0:cols, 0:rows].T.reshape(-1, 2)\n",
        "        objp *= float(square_size)\n",
        "        return objp\n",
        "\n",
        "class Calib:\n",
        "    @staticmethod\n",
        "    def find_corners(image_paths, pattern_size=PATTERN_SIZE, subpix=True):\n",
        "        objp = Board.object_points(pattern_size)\n",
        "        objpoints, imgpoints, corners_list, ok_mask = [], [], [], []\n",
        "        img_shape = None\n",
        "\n",
        "        for p in image_paths:\n",
        "            img = cv2.imread(p)\n",
        "            if img is None:\n",
        "                corners_list.append(None); ok_mask.append(False); continue\n",
        "            gray = cv2.cvtColor(img, cv2.COLOR_BGR2GRAY)\n",
        "            img_shape = gray.shape[::-1]\n",
        "\n",
        "            ret, corners = cv2.findChessboardCorners(\n",
        "                gray, pattern_size,\n",
        "                flags=cv2.CALIB_CB_ADAPTIVE_THRESH + cv2.CALIB_CB_NORMALIZE_IMAGE\n",
        "            )\n",
        "            if ret and subpix:\n",
        "                criteria = (cv2.TERM_CRITERIA_EPS + cv2.TERM_CRITERIA_MAX_ITER, 30, 1e-3)\n",
        "                corners = cv2.cornerSubPix(gray, corners, (11,11), (-1,-1), criteria)\n",
        "\n",
        "            if ret:\n",
        "                objpoints.append(objp)\n",
        "                imgpoints.append(corners)\n",
        "                corners_list.append(corners)\n",
        "                ok_mask.append(True)\n",
        "            else:\n",
        "                corners_list.append(None)\n",
        "                ok_mask.append(False)\n",
        "\n",
        "        return objpoints, imgpoints, img_shape, corners_list, ok_mask\n",
        "\n",
        "    @staticmethod\n",
        "    def run(image_paths, pattern_size=PATTERN_SIZE, square_size=SQUARE_SIZE_M):\n",
        "        objpoints, imgpoints, img_shape, corners_list, ok_mask = Calib.find_corners(\n",
        "            image_paths, pattern_size\n",
        "        )\n",
        "        if not objpoints:\n",
        "            raise RuntimeError(\"No chessboard detected. Check pattern size (9×6) and image quality.\")\n",
        "\n",
        "        ret, K, dist, rvecs, tvecs = cv2.calibrateCamera(\n",
        "            objpoints, imgpoints, img_shape, None, None\n",
        "        )\n",
        "\n",
        "        # Per-image reprojection errors (nice for your report)\n",
        "        per_image_err = []\n",
        "        K_np, D_np = np.array(K), np.array(dist)\n",
        "        for i in range(len(objpoints)):\n",
        "            pts2, _ = cv2.projectPoints(objpoints[i], rvecs[i], tvecs[i], K_np, D_np)\n",
        "            err = cv2.norm(imgpoints[i], pts2, cv2.NORM_L2) / len(pts2)\n",
        "            per_image_err.append(float(err))\n",
        "\n",
        "        results = {\n",
        "            \"rms_reprojection_error\": float(ret),\n",
        "            \"per_image_reprojection_error\": per_image_err,\n",
        "            \"K\": K.tolist(),\n",
        "            \"dist\": dist.tolist(),\n",
        "            \"rvecs\": [r.flatten().tolist() for r in rvecs],\n",
        "            \"tvecs\": [t.flatten().tolist() for t in tvecs],\n",
        "            \"width\": int(img_shape[0]),\n",
        "            \"height\": int(img_shape[1]),\n",
        "            \"pattern_size\": list(pattern_size),\n",
        "            \"square_size_m\": float(square_size),\n",
        "            \"used_images\": [image_paths[i] for i, ok in enumerate(ok_mask) if ok]\n",
        "        }\n",
        "        return results, corners_list, ok_mask\n",
        "\n",
        "class Overlay:\n",
        "    @staticmethod\n",
        "    def draw_corners(img, corners, pattern_size=PATTERN_SIZE):\n",
        "        vis = img.copy()\n",
        "        cv2.drawChessboardCorners(vis, pattern_size, corners, True)\n",
        "        return vis\n",
        "\n",
        "    @staticmethod\n",
        "    def draw_axes(img, K, dist, rvec, tvec, axis_len=0.1):\n",
        "        vis = img.copy()\n",
        "        axis = np.float32([[0,0,0],[axis_len,0,0],[0,axis_len,0],[0,0,axis_len]])\n",
        "        pts, _ = cv2.projectPoints(axis, rvec, tvec, K, dist)\n",
        "        pts = pts.reshape(-1,2).astype(int)\n",
        "        cv2.line(vis, tuple(pts[0]), tuple(pts[1]), (0,0,255), 3)   # x red\n",
        "        cv2.line(vis, tuple(pts[0]), tuple(pts[2]), (0,255,0), 3)   # y green\n",
        "        cv2.line(vis, tuple(pts[0]), tuple(pts[3]), (255,0,0), 3)   # z blue\n",
        "        return vis\n",
        "\n",
        "    @staticmethod\n",
        "    def undistort(img, K, dist):\n",
        "        h, w = img.shape[:2]\n",
        "        newK, _ = cv2.getOptimalNewCameraMatrix(K, dist, (w,h), 1, (w,h))\n",
        "        return cv2.undistort(img, K, dist, None, newK)\n",
        "\n",
        "class Viz:\n",
        "    @staticmethod\n",
        "    def camera_centers_board_frame(rvecs, tvecs):\n",
        "        Cs = []\n",
        "        for rvec, tvec in zip(rvecs, tvecs):\n",
        "            R, _ = cv2.Rodrigues(np.array(rvec).reshape(3,1))\n",
        "            t = np.array(tvec).reshape(3,1)\n",
        "            C = -R.T @ t  # camera center in board frame\n",
        "            Cs.append(C.flatten())\n",
        "        return np.array(Cs)\n",
        "\n",
        "    @staticmethod\n",
        "    def plot_camera_poses(rvecs, tvecs, square_size=SQUARE_SIZE_M, grid_size=(10,7), save_path=f\"{OUTDIR}/camera_poses.png\"):\n",
        "        fig = plt.figure(figsize=(6,6))\n",
        "        ax = fig.add_subplot(111, projection=\"3d\")\n",
        "\n",
        "        gx, gy = grid_size\n",
        "        xs = np.arange(0, gx+1) * square_size\n",
        "        ys = np.arange(0, gy+1) * square_size\n",
        "        for x in xs: ax.plot([x,x],[0,gy*square_size],[0,0], linewidth=1)\n",
        "        for y in ys: ax.plot([0,gx*square_size],[y,y],[0,0], linewidth=1)\n",
        "\n",
        "        Cs = Viz.camera_centers_board_frame(rvecs, tvecs)\n",
        "        if len(Cs): ax.scatter(Cs[:,0], Cs[:,1], Cs[:,2], s=30, marker='o')\n",
        "\n",
        "        ax.set_xlabel('X (m)'); ax.set_ylabel('Y (m)'); ax.set_zlabel('Z (m)')\n",
        "        ax.view_init(elev=25, azim=-60)\n",
        "        ax.set_title(\"Estimated Camera Poses (board frame)\")\n",
        "        fig.tight_layout()\n",
        "        fig.savefig(save_path, dpi=160)\n",
        "        plt.close(fig)\n",
        "        return save_path\n",
        "\n",
        "    @staticmethod\n",
        "    def sample_overlays(image_paths, corners_list, rvecs, tvecs, K, D, pattern_size=PATTERN_SIZE, max_n=8):\n",
        "        outs, used = [], 0\n",
        "        for p, corners, rvec, tvec in zip(image_paths, corners_list, rvecs, tvecs):\n",
        "            if corners is None: continue\n",
        "            img = cv2.imread(p)\n",
        "            img = Overlay.draw_corners(img, corners, pattern_size)\n",
        "            img = Overlay.draw_axes(img, K, D, np.array(rvec), np.array(tvec), axis_len=0.1)\n",
        "            outp = f\"{OUTDIR}/overlay_{Path(p).stem}.jpg\"\n",
        "            cv2.imwrite(outp, img)\n",
        "            outs.append(outp)\n",
        "            used += 1\n",
        "            if used >= max_n: break\n",
        "        return outs\n",
        "\n",
        "    @staticmethod\n",
        "    def undistort_side_by_side(img_path, K, D, save_path=f\"{OUTDIR}/undistort_preview.jpg\"):\n",
        "        img = cv2.imread(img_path)\n",
        "        und = Overlay.undistort(img, K, D)\n",
        "        side = np.hstack([img, und])\n",
        "        cv2.imwrite(save_path, side)\n",
        "        return save_path\n"
      ],
      "metadata": {
        "id": "mxSzuyd5DDD1"
      },
      "execution_count": null,
      "outputs": []
    },
    {
      "cell_type": "code",
      "source": [
        "import gradio as gr\n",
        "\n",
        "STATE = {\"results\": None, \"corners_list\": None, \"ok_mask\": None, \"image_paths\": None}\n",
        "\n",
        "def ui_reset_images():\n",
        "    if os.path.exists(IMDIR):\n",
        "        for f in glob.glob(f\"{IMDIR}/*\"):\n",
        "            try: os.remove(f)\n",
        "            except: pass\n",
        "    os.makedirs(IMDIR, exist_ok=True)\n",
        "    return \"Image folder reset.\"\n",
        "\n",
        "def ui_upload(files):\n",
        "    os.makedirs(IMDIR, exist_ok=True)\n",
        "    for f in files: shutil.copy(f.name, IMDIR)\n",
        "    imgs = IO.list_images(IMDIR)\n",
        "    return f\"Uploaded {len(files)} files. JPEGs present: {len(imgs)}.\"\n",
        "\n",
        "def ui_calibrate(square_meters):\n",
        "    image_paths = IO.list_images(IMDIR)\n",
        "    if len(image_paths) < 5:\n",
        "        return \"Need at least 5 images (ideally 15–20).\"\n",
        "\n",
        "    # run calibration (pattern 9x6 locked for your board)\n",
        "    global SQUARE_SIZE_M\n",
        "    SQUARE_SIZE_M = float(square_meters)\n",
        "\n",
        "    results, corners_list, ok_mask = Calib.run(\n",
        "        image_paths, pattern_size=PATTERN_SIZE, square_size=SQUARE_SIZE_M\n",
        "    )\n",
        "    IO.save_json(results, \"calibration.json\")\n",
        "\n",
        "    STATE[\"results\"] = results\n",
        "    STATE[\"corners_list\"] = corners_list\n",
        "    STATE[\"ok_mask\"] = ok_mask\n",
        "    STATE[\"image_paths\"] = [p for p, ok in zip(image_paths, ok_mask) if ok]\n",
        "\n",
        "    msg = [\n",
        "        \"Calibration complete ✅\",\n",
        "        f\"RMS reprojection error: {results['rms_reprojection_error']:.4f} px\",\n",
        "        f\"Used images: {len(results['used_images'])}/{len(image_paths)}\",\n",
        "        f\"Saved → calibration.json\",\n",
        "    ]\n",
        "    return \"\\n\".join(msg)\n",
        "\n",
        "def ui_show_poses():\n",
        "    r = STATE[\"results\"]\n",
        "    if not r: return None, \"Run calibration first.\"\n",
        "    path = Viz.plot_camera_poses(r[\"rvecs\"], r[\"tvecs\"], square_size=r[\"square_size_m\"])\n",
        "    return path, \"Camera poses plotted.\"\n",
        "\n",
        "def ui_show_overlays(max_n):\n",
        "    r = STATE[\"results\"]\n",
        "    if not r: return [], \"Run calibration first.\"\n",
        "    K = np.array(r[\"K\"]); D = np.array(r[\"dist\"])\n",
        "    outs = Viz.sample_overlays(STATE[\"image_paths\"], STATE[\"corners_list\"], r[\"rvecs\"], r[\"tvecs\"], K, D, pattern_size=PATTERN_SIZE, max_n=int(max_n))\n",
        "    return outs, f\"Generated {len(outs)} overlay images.\"\n",
        "\n",
        "def ui_undistort_preview(image_name):\n",
        "    r = STATE[\"results\"]\n",
        "    if not r: return None\n",
        "    K = np.array(r[\"K\"]); D = np.array(r[\"dist\"])\n",
        "    path = Viz.undistort_side_by_side(f\"{IMDIR}/{image_name}\", K, D)\n",
        "    return path\n",
        "\n",
        "def ui_list_image_names():\n",
        "    return [Path(p).name for p in IO.list_images(IMDIR)]\n",
        "\n",
        "with gr.Blocks(title=\"Camera Calibration (OpenCV + Gradio)\", analytics_enabled=False) as demo:\n",
        "    gr.Markdown(\"## Camera Calibration (OpenCV + Gradio) — 9×6 chessboard\")\n",
        "\n",
        "    with gr.Tab(\"1) Upload\"):\n",
        "        gr.Markdown(\"Upload **.jpg/.jpeg** images. They will be saved to `/content/images/`.\")\n",
        "        upload = gr.File(label=\"Upload calibration images\", file_count=\"multiple\", file_types=[\".jpg\", \".jpeg\"])\n",
        "        up_btn = gr.Button(\"Save to /content/images\")\n",
        "        reset_btn = gr.Button(\"Reset /content/images\")\n",
        "        up_out = gr.Textbox(label=\"Status\")\n",
        "        up_btn.click(ui_upload, inputs=upload, outputs=up_out)\n",
        "        reset_btn.click(ui_reset_images, outputs=up_out)\n",
        "\n",
        "    with gr.Tab(\"2) Calibrate\"):\n",
        "        gr.Markdown(\"Pattern size is fixed to your board: **9 × 6 inner corners**.\")\n",
        "        cols = gr.Number(value=PATTERN_COLS, precision=0, label=\"Pattern columns\", interactive=False)\n",
        "        rows = gr.Number(value=PATTERN_ROWS, precision=0, label=\"Pattern rows\", interactive=False)\n",
        "        sq   = gr.Number(value=SQUARE_SIZE_M, label=\"Square size (meters)\")\n",
        "        run  = gr.Button(\"Run Calibration\")\n",
        "        cal_out = gr.Textbox(label=\"Calibration log\", lines=6)\n",
        "        run.click(ui_calibrate, inputs=[sq], outputs=cal_out)\n",
        "\n",
        "        gr.Markdown(\"Download results:\")\n",
        "        cal_file = gr.File(label=\"calibration.json\")\n",
        "        def _serve_json(): return \"calibration.json\"\n",
        "        run.click(_serve_json, outputs=cal_file)\n",
        "\n",
        "    with gr.Tab(\"3) Visualize\"):\n",
        "        poses_btn = gr.Button(\"Plot Camera Poses\")\n",
        "        poses_img = gr.Image(label=\"Camera poses (board frame)\")\n",
        "        poses_log = gr.Textbox(label=\"Log\")\n",
        "        poses_btn.click(ui_show_poses, outputs=[poses_img, poses_log])\n",
        "\n",
        "        gr.Markdown(\"### Sample Overlays (corners + world axes)\")\n",
        "        maxn = gr.Slider(1, 10, value=8, step=1, label=\"How many images to render?\")\n",
        "        overlay_btn = gr.Button(\"Generate overlays\")\n",
        "        overlay_gallery = gr.Gallery(label=\"Overlays\", height=300)\n",
        "        overlay_log = gr.Textbox(label=\"Log\")\n",
        "        overlay_btn.click(ui_show_overlays, inputs=maxn, outputs=[overlay_gallery, overlay_log])\n",
        "\n",
        "        gr.Markdown(\"### Undistortion preview (before | after)\")\n",
        "        refresh_btn = gr.Button(\"Refresh image list\")\n",
        "        name_dd = gr.Dropdown(choices=[], label=\"Pick an uploaded image\")\n",
        "        prev_btn = gr.Button(\"Show undistortion preview\")\n",
        "        prev_img = gr.Image(label=\"Undistort preview\")\n",
        "        refresh_btn.click(ui_list_image_names, outputs=name_dd)\n",
        "        prev_btn.click(ui_undistort_preview, inputs=name_dd, outputs=prev_img)\n",
        "\n",
        "demo.launch(inline=True, share=False)\n"
      ],
      "metadata": {
        "colab": {
          "base_uri": "https://localhost:8080/",
          "height": 599
        },
        "id": "ZmvEMa_atrHw",
        "outputId": "c48af579-3301-4416-8f18-873193a17c44"
      },
      "execution_count": null,
      "outputs": [
        {
          "output_type": "stream",
          "name": "stdout",
          "text": [
            "Colab notebook detected. To show errors in colab notebook, set debug=True in launch()\n",
            "Note: opening Chrome Inspector may crash demo inside Colab notebooks.\n",
            "* To create a public link, set `share=True` in `launch()`.\n"
          ]
        },
        {
          "output_type": "display_data",
          "data": {
            "text/plain": [
              "<IPython.core.display.Javascript object>"
            ],
            "application/javascript": [
              "(async (port, path, width, height, cache, element) => {\n",
              "                        if (!google.colab.kernel.accessAllowed && !cache) {\n",
              "                            return;\n",
              "                        }\n",
              "                        element.appendChild(document.createTextNode(''));\n",
              "                        const url = await google.colab.kernel.proxyPort(port, {cache});\n",
              "\n",
              "                        const external_link = document.createElement('div');\n",
              "                        external_link.innerHTML = `\n",
              "                            <div style=\"font-family: monospace; margin-bottom: 0.5rem\">\n",
              "                                Running on <a href=${new URL(path, url).toString()} target=\"_blank\">\n",
              "                                    https://localhost:${port}${path}\n",
              "                                </a>\n",
              "                            </div>\n",
              "                        `;\n",
              "                        element.appendChild(external_link);\n",
              "\n",
              "                        const iframe = document.createElement('iframe');\n",
              "                        iframe.src = new URL(path, url).toString();\n",
              "                        iframe.height = height;\n",
              "                        iframe.allow = \"autoplay; camera; microphone; clipboard-read; clipboard-write;\"\n",
              "                        iframe.width = width;\n",
              "                        iframe.style.border = 0;\n",
              "                        element.appendChild(iframe);\n",
              "                    })(7864, \"/\", \"100%\", 500, false, window.element)"
            ]
          },
          "metadata": {}
        },
        {
          "output_type": "execute_result",
          "data": {
            "text/plain": []
          },
          "metadata": {},
          "execution_count": 15
        }
      ]
    },
    {
      "cell_type": "markdown",
      "source": [
        "next step to do\n",
        "1. print chess board\n",
        "2. take 15-20 photo\n",
        "3. upload and run calibaration using gradio ai"
      ],
      "metadata": {
        "id": "GhgDe3aIDi29"
      }
    },
    {
      "cell_type": "code",
      "source": [
        "import glob\n",
        "overlays = glob.glob(\"/content/out/overlay_*.jpg\")\n",
        "print(\"Found overlays:\", len(overlays))\n",
        "print(overlays[:5])  # show first 5 filenames\n"
      ],
      "metadata": {
        "colab": {
          "base_uri": "https://localhost:8080/"
        },
        "id": "ukSoqP6bwTgL",
        "outputId": "2ea6b8d7-77c5-4463-b359-2e9df2e63c7f"
      },
      "execution_count": null,
      "outputs": [
        {
          "output_type": "stream",
          "name": "stdout",
          "text": [
            "Found overlays: 8\n",
            "['/content/out/overlay_WhatsApp Image 2025-09-02 at 5.54.29 PM 4.jpg', '/content/out/overlay_WhatsApp Image 2025-09-02 at 5.54.29 PM 11.jpg', '/content/out/overlay_WhatsApp Image 2025-09-02 at 5.54.29 PM 10.jpg', '/content/out/overlay_WhatsApp Image 2025-09-02 at 5.54.29 PM 3.jpg', '/content/out/overlay_WhatsApp Image 2025-09-02 at 5.54.29 PM 13.jpg']\n"
          ]
        }
      ]
    },
    {
      "cell_type": "code",
      "source": [
        "import cv2, matplotlib.pyplot as plt\n",
        "\n",
        "if overlays:\n",
        "    img = cv2.imread(overlays[0])\n",
        "    plt.imshow(cv2.cvtColor(img, cv2.COLOR_BGR2RGB))\n",
        "    plt.title(\"Overlay preview\")\n",
        "    plt.axis(\"off\")\n",
        "    plt.show()\n"
      ],
      "metadata": {
        "id": "Ci3A8nRHwXOC"
      },
      "execution_count": null,
      "outputs": []
    },
    {
      "cell_type": "code",
      "source": [
        "from google.colab import files\n",
        "for f in overlays:\n",
        "    files.download(f)\n"
      ],
      "metadata": {
        "colab": {
          "base_uri": "https://localhost:8080/",
          "height": 17
        },
        "id": "PL26uLFOwZ8q",
        "outputId": "2a133233-3d17-4a5b-8f16-218c5a6af6b6"
      },
      "execution_count": null,
      "outputs": [
        {
          "output_type": "display_data",
          "data": {
            "text/plain": [
              "<IPython.core.display.Javascript object>"
            ],
            "application/javascript": [
              "\n",
              "    async function download(id, filename, size) {\n",
              "      if (!google.colab.kernel.accessAllowed) {\n",
              "        return;\n",
              "      }\n",
              "      const div = document.createElement('div');\n",
              "      const label = document.createElement('label');\n",
              "      label.textContent = `Downloading \"${filename}\": `;\n",
              "      div.appendChild(label);\n",
              "      const progress = document.createElement('progress');\n",
              "      progress.max = size;\n",
              "      div.appendChild(progress);\n",
              "      document.body.appendChild(div);\n",
              "\n",
              "      const buffers = [];\n",
              "      let downloaded = 0;\n",
              "\n",
              "      const channel = await google.colab.kernel.comms.open(id);\n",
              "      // Send a message to notify the kernel that we're ready.\n",
              "      channel.send({})\n",
              "\n",
              "      for await (const message of channel.messages) {\n",
              "        // Send a message to notify the kernel that we're ready.\n",
              "        channel.send({})\n",
              "        if (message.buffers) {\n",
              "          for (const buffer of message.buffers) {\n",
              "            buffers.push(buffer);\n",
              "            downloaded += buffer.byteLength;\n",
              "            progress.value = downloaded;\n",
              "          }\n",
              "        }\n",
              "      }\n",
              "      const blob = new Blob(buffers, {type: 'application/binary'});\n",
              "      const a = document.createElement('a');\n",
              "      a.href = window.URL.createObjectURL(blob);\n",
              "      a.download = filename;\n",
              "      div.appendChild(a);\n",
              "      a.click();\n",
              "      div.remove();\n",
              "    }\n",
              "  "
            ]
          },
          "metadata": {}
        },
        {
          "output_type": "display_data",
          "data": {
            "text/plain": [
              "<IPython.core.display.Javascript object>"
            ],
            "application/javascript": [
              "download(\"download_888fdf7b-bd47-455a-8945-b18549857ffb\", \"overlay_WhatsApp Image 2025-09-02 at 5.54.29 PM 4.jpg\", 1967229)"
            ]
          },
          "metadata": {}
        },
        {
          "output_type": "display_data",
          "data": {
            "text/plain": [
              "<IPython.core.display.Javascript object>"
            ],
            "application/javascript": [
              "\n",
              "    async function download(id, filename, size) {\n",
              "      if (!google.colab.kernel.accessAllowed) {\n",
              "        return;\n",
              "      }\n",
              "      const div = document.createElement('div');\n",
              "      const label = document.createElement('label');\n",
              "      label.textContent = `Downloading \"${filename}\": `;\n",
              "      div.appendChild(label);\n",
              "      const progress = document.createElement('progress');\n",
              "      progress.max = size;\n",
              "      div.appendChild(progress);\n",
              "      document.body.appendChild(div);\n",
              "\n",
              "      const buffers = [];\n",
              "      let downloaded = 0;\n",
              "\n",
              "      const channel = await google.colab.kernel.comms.open(id);\n",
              "      // Send a message to notify the kernel that we're ready.\n",
              "      channel.send({})\n",
              "\n",
              "      for await (const message of channel.messages) {\n",
              "        // Send a message to notify the kernel that we're ready.\n",
              "        channel.send({})\n",
              "        if (message.buffers) {\n",
              "          for (const buffer of message.buffers) {\n",
              "            buffers.push(buffer);\n",
              "            downloaded += buffer.byteLength;\n",
              "            progress.value = downloaded;\n",
              "          }\n",
              "        }\n",
              "      }\n",
              "      const blob = new Blob(buffers, {type: 'application/binary'});\n",
              "      const a = document.createElement('a');\n",
              "      a.href = window.URL.createObjectURL(blob);\n",
              "      a.download = filename;\n",
              "      div.appendChild(a);\n",
              "      a.click();\n",
              "      div.remove();\n",
              "    }\n",
              "  "
            ]
          },
          "metadata": {}
        },
        {
          "output_type": "display_data",
          "data": {
            "text/plain": [
              "<IPython.core.display.Javascript object>"
            ],
            "application/javascript": [
              "download(\"download_b1d31840-d8cd-4c7f-96f9-141f7db66d1e\", \"overlay_WhatsApp Image 2025-09-02 at 5.54.29 PM 11.jpg\", 1844584)"
            ]
          },
          "metadata": {}
        },
        {
          "output_type": "display_data",
          "data": {
            "text/plain": [
              "<IPython.core.display.Javascript object>"
            ],
            "application/javascript": [
              "\n",
              "    async function download(id, filename, size) {\n",
              "      if (!google.colab.kernel.accessAllowed) {\n",
              "        return;\n",
              "      }\n",
              "      const div = document.createElement('div');\n",
              "      const label = document.createElement('label');\n",
              "      label.textContent = `Downloading \"${filename}\": `;\n",
              "      div.appendChild(label);\n",
              "      const progress = document.createElement('progress');\n",
              "      progress.max = size;\n",
              "      div.appendChild(progress);\n",
              "      document.body.appendChild(div);\n",
              "\n",
              "      const buffers = [];\n",
              "      let downloaded = 0;\n",
              "\n",
              "      const channel = await google.colab.kernel.comms.open(id);\n",
              "      // Send a message to notify the kernel that we're ready.\n",
              "      channel.send({})\n",
              "\n",
              "      for await (const message of channel.messages) {\n",
              "        // Send a message to notify the kernel that we're ready.\n",
              "        channel.send({})\n",
              "        if (message.buffers) {\n",
              "          for (const buffer of message.buffers) {\n",
              "            buffers.push(buffer);\n",
              "            downloaded += buffer.byteLength;\n",
              "            progress.value = downloaded;\n",
              "          }\n",
              "        }\n",
              "      }\n",
              "      const blob = new Blob(buffers, {type: 'application/binary'});\n",
              "      const a = document.createElement('a');\n",
              "      a.href = window.URL.createObjectURL(blob);\n",
              "      a.download = filename;\n",
              "      div.appendChild(a);\n",
              "      a.click();\n",
              "      div.remove();\n",
              "    }\n",
              "  "
            ]
          },
          "metadata": {}
        },
        {
          "output_type": "display_data",
          "data": {
            "text/plain": [
              "<IPython.core.display.Javascript object>"
            ],
            "application/javascript": [
              "download(\"download_b2f1aa0a-8ced-4285-ba32-42cb4b40e37a\", \"overlay_WhatsApp Image 2025-09-02 at 5.54.29 PM 10.jpg\", 1696181)"
            ]
          },
          "metadata": {}
        },
        {
          "output_type": "display_data",
          "data": {
            "text/plain": [
              "<IPython.core.display.Javascript object>"
            ],
            "application/javascript": [
              "\n",
              "    async function download(id, filename, size) {\n",
              "      if (!google.colab.kernel.accessAllowed) {\n",
              "        return;\n",
              "      }\n",
              "      const div = document.createElement('div');\n",
              "      const label = document.createElement('label');\n",
              "      label.textContent = `Downloading \"${filename}\": `;\n",
              "      div.appendChild(label);\n",
              "      const progress = document.createElement('progress');\n",
              "      progress.max = size;\n",
              "      div.appendChild(progress);\n",
              "      document.body.appendChild(div);\n",
              "\n",
              "      const buffers = [];\n",
              "      let downloaded = 0;\n",
              "\n",
              "      const channel = await google.colab.kernel.comms.open(id);\n",
              "      // Send a message to notify the kernel that we're ready.\n",
              "      channel.send({})\n",
              "\n",
              "      for await (const message of channel.messages) {\n",
              "        // Send a message to notify the kernel that we're ready.\n",
              "        channel.send({})\n",
              "        if (message.buffers) {\n",
              "          for (const buffer of message.buffers) {\n",
              "            buffers.push(buffer);\n",
              "            downloaded += buffer.byteLength;\n",
              "            progress.value = downloaded;\n",
              "          }\n",
              "        }\n",
              "      }\n",
              "      const blob = new Blob(buffers, {type: 'application/binary'});\n",
              "      const a = document.createElement('a');\n",
              "      a.href = window.URL.createObjectURL(blob);\n",
              "      a.download = filename;\n",
              "      div.appendChild(a);\n",
              "      a.click();\n",
              "      div.remove();\n",
              "    }\n",
              "  "
            ]
          },
          "metadata": {}
        },
        {
          "output_type": "display_data",
          "data": {
            "text/plain": [
              "<IPython.core.display.Javascript object>"
            ],
            "application/javascript": [
              "download(\"download_3dc102b2-3779-4f15-bf2e-6e01cae5f463\", \"overlay_WhatsApp Image 2025-09-02 at 5.54.29 PM 3.jpg\", 1694608)"
            ]
          },
          "metadata": {}
        },
        {
          "output_type": "display_data",
          "data": {
            "text/plain": [
              "<IPython.core.display.Javascript object>"
            ],
            "application/javascript": [
              "\n",
              "    async function download(id, filename, size) {\n",
              "      if (!google.colab.kernel.accessAllowed) {\n",
              "        return;\n",
              "      }\n",
              "      const div = document.createElement('div');\n",
              "      const label = document.createElement('label');\n",
              "      label.textContent = `Downloading \"${filename}\": `;\n",
              "      div.appendChild(label);\n",
              "      const progress = document.createElement('progress');\n",
              "      progress.max = size;\n",
              "      div.appendChild(progress);\n",
              "      document.body.appendChild(div);\n",
              "\n",
              "      const buffers = [];\n",
              "      let downloaded = 0;\n",
              "\n",
              "      const channel = await google.colab.kernel.comms.open(id);\n",
              "      // Send a message to notify the kernel that we're ready.\n",
              "      channel.send({})\n",
              "\n",
              "      for await (const message of channel.messages) {\n",
              "        // Send a message to notify the kernel that we're ready.\n",
              "        channel.send({})\n",
              "        if (message.buffers) {\n",
              "          for (const buffer of message.buffers) {\n",
              "            buffers.push(buffer);\n",
              "            downloaded += buffer.byteLength;\n",
              "            progress.value = downloaded;\n",
              "          }\n",
              "        }\n",
              "      }\n",
              "      const blob = new Blob(buffers, {type: 'application/binary'});\n",
              "      const a = document.createElement('a');\n",
              "      a.href = window.URL.createObjectURL(blob);\n",
              "      a.download = filename;\n",
              "      div.appendChild(a);\n",
              "      a.click();\n",
              "      div.remove();\n",
              "    }\n",
              "  "
            ]
          },
          "metadata": {}
        },
        {
          "output_type": "display_data",
          "data": {
            "text/plain": [
              "<IPython.core.display.Javascript object>"
            ],
            "application/javascript": [
              "download(\"download_648b2e32-4a37-4938-aa96-16bddc8c41ec\", \"overlay_WhatsApp Image 2025-09-02 at 5.54.29 PM 13.jpg\", 1769475)"
            ]
          },
          "metadata": {}
        },
        {
          "output_type": "display_data",
          "data": {
            "text/plain": [
              "<IPython.core.display.Javascript object>"
            ],
            "application/javascript": [
              "\n",
              "    async function download(id, filename, size) {\n",
              "      if (!google.colab.kernel.accessAllowed) {\n",
              "        return;\n",
              "      }\n",
              "      const div = document.createElement('div');\n",
              "      const label = document.createElement('label');\n",
              "      label.textContent = `Downloading \"${filename}\": `;\n",
              "      div.appendChild(label);\n",
              "      const progress = document.createElement('progress');\n",
              "      progress.max = size;\n",
              "      div.appendChild(progress);\n",
              "      document.body.appendChild(div);\n",
              "\n",
              "      const buffers = [];\n",
              "      let downloaded = 0;\n",
              "\n",
              "      const channel = await google.colab.kernel.comms.open(id);\n",
              "      // Send a message to notify the kernel that we're ready.\n",
              "      channel.send({})\n",
              "\n",
              "      for await (const message of channel.messages) {\n",
              "        // Send a message to notify the kernel that we're ready.\n",
              "        channel.send({})\n",
              "        if (message.buffers) {\n",
              "          for (const buffer of message.buffers) {\n",
              "            buffers.push(buffer);\n",
              "            downloaded += buffer.byteLength;\n",
              "            progress.value = downloaded;\n",
              "          }\n",
              "        }\n",
              "      }\n",
              "      const blob = new Blob(buffers, {type: 'application/binary'});\n",
              "      const a = document.createElement('a');\n",
              "      a.href = window.URL.createObjectURL(blob);\n",
              "      a.download = filename;\n",
              "      div.appendChild(a);\n",
              "      a.click();\n",
              "      div.remove();\n",
              "    }\n",
              "  "
            ]
          },
          "metadata": {}
        },
        {
          "output_type": "display_data",
          "data": {
            "text/plain": [
              "<IPython.core.display.Javascript object>"
            ],
            "application/javascript": [
              "download(\"download_d6a96609-32d5-4ec1-b08b-f1ae3498e1b4\", \"overlay_WhatsApp Image 2025-09-02 at 5.54.29 PM 2.jpg\", 1404358)"
            ]
          },
          "metadata": {}
        },
        {
          "output_type": "display_data",
          "data": {
            "text/plain": [
              "<IPython.core.display.Javascript object>"
            ],
            "application/javascript": [
              "\n",
              "    async function download(id, filename, size) {\n",
              "      if (!google.colab.kernel.accessAllowed) {\n",
              "        return;\n",
              "      }\n",
              "      const div = document.createElement('div');\n",
              "      const label = document.createElement('label');\n",
              "      label.textContent = `Downloading \"${filename}\": `;\n",
              "      div.appendChild(label);\n",
              "      const progress = document.createElement('progress');\n",
              "      progress.max = size;\n",
              "      div.appendChild(progress);\n",
              "      document.body.appendChild(div);\n",
              "\n",
              "      const buffers = [];\n",
              "      let downloaded = 0;\n",
              "\n",
              "      const channel = await google.colab.kernel.comms.open(id);\n",
              "      // Send a message to notify the kernel that we're ready.\n",
              "      channel.send({})\n",
              "\n",
              "      for await (const message of channel.messages) {\n",
              "        // Send a message to notify the kernel that we're ready.\n",
              "        channel.send({})\n",
              "        if (message.buffers) {\n",
              "          for (const buffer of message.buffers) {\n",
              "            buffers.push(buffer);\n",
              "            downloaded += buffer.byteLength;\n",
              "            progress.value = downloaded;\n",
              "          }\n",
              "        }\n",
              "      }\n",
              "      const blob = new Blob(buffers, {type: 'application/binary'});\n",
              "      const a = document.createElement('a');\n",
              "      a.href = window.URL.createObjectURL(blob);\n",
              "      a.download = filename;\n",
              "      div.appendChild(a);\n",
              "      a.click();\n",
              "      div.remove();\n",
              "    }\n",
              "  "
            ]
          },
          "metadata": {}
        },
        {
          "output_type": "display_data",
          "data": {
            "text/plain": [
              "<IPython.core.display.Javascript object>"
            ],
            "application/javascript": [
              "download(\"download_9d00378e-03cb-4ae9-a6df-9496df77d2a6\", \"overlay_WhatsApp Image 2025-09-02 at 5.54.29 PM 1.jpg\", 1539655)"
            ]
          },
          "metadata": {}
        },
        {
          "output_type": "display_data",
          "data": {
            "text/plain": [
              "<IPython.core.display.Javascript object>"
            ],
            "application/javascript": [
              "\n",
              "    async function download(id, filename, size) {\n",
              "      if (!google.colab.kernel.accessAllowed) {\n",
              "        return;\n",
              "      }\n",
              "      const div = document.createElement('div');\n",
              "      const label = document.createElement('label');\n",
              "      label.textContent = `Downloading \"${filename}\": `;\n",
              "      div.appendChild(label);\n",
              "      const progress = document.createElement('progress');\n",
              "      progress.max = size;\n",
              "      div.appendChild(progress);\n",
              "      document.body.appendChild(div);\n",
              "\n",
              "      const buffers = [];\n",
              "      let downloaded = 0;\n",
              "\n",
              "      const channel = await google.colab.kernel.comms.open(id);\n",
              "      // Send a message to notify the kernel that we're ready.\n",
              "      channel.send({})\n",
              "\n",
              "      for await (const message of channel.messages) {\n",
              "        // Send a message to notify the kernel that we're ready.\n",
              "        channel.send({})\n",
              "        if (message.buffers) {\n",
              "          for (const buffer of message.buffers) {\n",
              "            buffers.push(buffer);\n",
              "            downloaded += buffer.byteLength;\n",
              "            progress.value = downloaded;\n",
              "          }\n",
              "        }\n",
              "      }\n",
              "      const blob = new Blob(buffers, {type: 'application/binary'});\n",
              "      const a = document.createElement('a');\n",
              "      a.href = window.URL.createObjectURL(blob);\n",
              "      a.download = filename;\n",
              "      div.appendChild(a);\n",
              "      a.click();\n",
              "      div.remove();\n",
              "    }\n",
              "  "
            ]
          },
          "metadata": {}
        },
        {
          "output_type": "display_data",
          "data": {
            "text/plain": [
              "<IPython.core.display.Javascript object>"
            ],
            "application/javascript": [
              "download(\"download_cc53b3a6-ec7a-4bee-a316-5bdf9d7ddc9c\", \"overlay_WhatsApp Image 2025-09-02 at 5.54.29 PM 12.jpg\", 1948038)"
            ]
          },
          "metadata": {}
        }
      ]
    },
    {
      "cell_type": "code",
      "source": [
        "import cv2\n",
        "\n",
        "def ui_show_overlays(max_n):\n",
        "    r = STATE[\"results\"]\n",
        "    if not r: return [], \"Run calibration first.\"\n",
        "    K = np.array(r[\"K\"]); D = np.array(r[\"dist\"])\n",
        "    outs = Viz.sample_overlays(STATE[\"image_paths\"], STATE[\"corners_list\"], r[\"rvecs\"], r[\"tvecs\"], K, D, pattern_size=PATTERN_SIZE, max_n=int(max_n))\n",
        "\n",
        "    # Load images instead of paths\n",
        "    imgs = [cv2.cvtColor(cv2.imread(p), cv2.COLOR_BGR2RGB) for p in outs]\n",
        "    return imgs, f\"Generated {len(imgs)} overlay images.\"\n"
      ],
      "metadata": {
        "id": "bupzaWsjw20k"
      },
      "execution_count": null,
      "outputs": []
    },
    {
      "cell_type": "code",
      "source": [
        "# Count images and preview first 3 shapes\n",
        "files = IO.list_images(IMDIR)\n",
        "print(\"Found images:\", len(files))\n",
        "for f in files[:3]:\n",
        "    im = cv2.imread(f)\n",
        "    print(Path(f).name, \"→\", None if im is None else im.shape)\n",
        "\n",
        "# Quick corner check on a few images\n",
        "for f in files[:5]:\n",
        "    img = cv2.imread(f)\n",
        "    gray = cv2.cvtColor(img, cv2.COLOR_BGR2GRAY)\n",
        "    ret, corners = cv2.findChessboardCorners(gray, PATTERN_SIZE, None)\n",
        "    print(Path(f).name, \"corners:\", \"FOUND\" if ret else \"FAILED\")\n"
      ],
      "metadata": {
        "id": "0qMqorL1DOYD"
      },
      "execution_count": null,
      "outputs": []
    }
  ]
}