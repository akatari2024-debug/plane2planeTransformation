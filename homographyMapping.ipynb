{
 "cells": [
  {
   "cell_type": "markdown",
   "metadata": {
    "colab_type": "text",
    "id": "view-in-github"
   },
   "source": [
    "<a href=\"https://colab.research.google.com/github/eraldoribeiro/plane2planeTransformation/blob/main/homographyMapping.ipynb\" target=\"_parent\"><img src=\"https://colab.research.google.com/assets/colab-badge.svg\" alt=\"Open In Colab\"/></a>"
   ]
  },
  {
   "cell_type": "markdown",
   "metadata": {
    "id": "CLeXp_S6bjbt"
   },
   "source": [
    "# The homography (or planar perspective) transformation\n",
    "\n",
    "\n",
    "The mathemathical notation in these notes follow Prince's book (Computer Vision Models). \n",
    "\n",
    "## Geometry\n",
    "\n",
    "The (planar) homography transformation is a plane-to-plane mapping that models the imaging geometry of the perspective camera when the camera captures the image of a planar object (e.g., wall, table top, book cover). The homography mapping is depicted in Figure 1.   \n",
    "\n",
    "<img src=\"https://github.com/eraldoribeiro/plane2planeTransformation/blob/main/3dplanes.jpg?raw=1\" alt=\"geometry01\" style=\"zoom:30%;\" />\n",
    "\n",
    "**Figure 1**: The geometry of the homography transformation. The camera center is located at point $C$. The homography transformation $\\Phi$ maps a plane in the scene to the image plane. This transformation is a one-to-one mapping between the points on the planes. However, the homography does not model the transformation of 3-D points that do not lie on  on the planar surface. "
   ]
  },
  {
   "cell_type": "markdown",
   "metadata": {},
   "source": [
    "\n",
    "## Deriving the homography from the pinhole camera model\n",
    "\n",
    "The equation of the homography transformation can be derived directly from the pinhole camera model by setting the w-coordinates of the scene object (i.e., a plane) to zero, and then re-arranging the resulting projection matrix. \n",
    "\n",
    "Consider the geometry shown in Figure 1. A point ${\\bf w} = (u,v,w)^\\mathsf{T}$ on the planar object maps to an image point ${\\bf x} = (x,y)^\\mathsf{T}$ on the image plane of the pinhole camera according to the following model:\n",
    "\n",
    "$$\n",
    "\\begin{align}\n",
    "{\\bf x} = \\text{pinhole}\\left[{\\bf w}, \\Lambda,\\Omega,\\boldsymbol{\\tau}\\right]. \n",
    "%\\tag{1}\n",
    "\\end{align}\n",
    "$$\n",
    "\n",
    "Here, $\\Lambda$ is the set of intrinsic parameters, $\\Omega$ is the camera rotation, and $\\boldsymbol{\\tau}$ is the 3-D location of the camera center (i.e., translation). \n",
    "For each world point ${\\bf w}\\in \\mathbb{R}^3$, the pinhole-camera model generates an image point ${\\bf x}\\in \\mathbb{R}^2$. "
   ]
  },
  {
   "cell_type": "markdown",
   "metadata": {},
   "source": [
    "### The pinhole camera model\n",
    "In matrix form (in homogeneous coordinates), the explicit form of the pinhole-camera model in Equation $1$ is:\n",
    "\n",
    "$$\n",
    "\\begin{align}    \n",
    "    \\lambda\n",
    "    \\begin{bmatrix}\n",
    "        x \\\\\n",
    "        y \\\\\n",
    "        1\n",
    "    \\end{bmatrix}\n",
    "    =  \n",
    "    \\underbrace{\\begin{bmatrix}\n",
    "        {\\phi_x} & {\\gamma} & {\\delta_x} & 0 \\\\\n",
    "         0     & {\\phi_y} & {\\delta_y} & 0 \\\\\n",
    "         0     & 0      & 1        & 0 \n",
    "    \\end{bmatrix}}_{\\text{intrinsic matrix}}\n",
    "    \\underbrace{\\begin{bmatrix}\n",
    "        {\\omega_{11}} & {\\omega_{12}} & {\\omega_{13}} & {\\tau_x} \\\\\n",
    "        {\\omega_{21}} & {\\omega_{22}} & {\\omega_{23}} & {\\tau_y} \\\\\n",
    "        {\\omega_{31}} & {\\omega_{32}} & {\\omega_{33}} & {\\tau_z} \\\\\n",
    "         0          & 0           & 0           & 1 \n",
    "    \\end{bmatrix}}_{\\text{extrinsic matrix}}\n",
    "    \\begin{bmatrix}\n",
    "        u \\\\\n",
    "        v \\\\\n",
    "        w \\\\\n",
    "        1\n",
    "    \\end{bmatrix}, \n",
    "\\tag{2}\n",
    "\\end{align}\n",
    "$$\n",
    "\n",
    "or in short:\n",
    "\n",
    "$$\n",
    "\\begin{align}\n",
    "    \\lambda \\tilde{{\\bf x}} = \n",
    "    \\Lambda\n",
    "    \\begin{bmatrix}\n",
    "        \\Omega & {\\boldsymbol{\\tau}}\n",
    "    \\end{bmatrix} \\tilde{{\\bf w}}. \n",
    "    \\tag{3}\n",
    "\\end{align}\n",
    "$$\n"
   ]
  },
  {
   "cell_type": "markdown",
   "metadata": {},
   "source": [
    "### Perspective transformation of planar objects (zero depth)\n",
    "\n",
    "\n",
    "The geometric scenario considered here is that of a camera capturing the image of a planar object. Since 3-D points lying on the plane have no depth, we set their third coordinate to zero, i.e., ${w = 0}$: \n",
    "$$\n",
    "\\begin{align}    \n",
    "    \\lambda\n",
    "    \\begin{bmatrix}\n",
    "        x \\\\\n",
    "        y \\\\\n",
    "        1\n",
    "    \\end{bmatrix}\n",
    "    =  \n",
    "    {\\begin{bmatrix}\n",
    "        {\\phi_x} & {\\gamma} & {\\delta_x} & 0 \\\\\n",
    "         0     & {\\phi_y} & {\\delta_y} & 0 \\\\\n",
    "         0     & 0      & 1        & 0 \n",
    "    \\end{bmatrix}}\n",
    "    {\\begin{bmatrix}\n",
    "        {\\omega_{11}} & {\\omega_{12}} & {\\omega_{13}} & {\\tau_x} \\\\\n",
    "        {\\omega_{21}} & {\\omega_{22}} & {\\omega_{23}} & {\\tau_y} \\\\\n",
    "        {\\omega_{31}} & {\\omega_{32}} & {\\omega_{33}} & {\\tau_z} \\\\\n",
    "         0          & 0           & 0           & 1 \n",
    "    \\end{bmatrix}}\n",
    "    \\begin{bmatrix}\n",
    "        u \\\\\n",
    "        v \\\\\n",
    "        0 \\\\\n",
    "        1\n",
    "    \\end{bmatrix}, \n",
    "\\tag{4}\n",
    "\\end{align}\n",
    "$$\n",
    "\n",
    "which will cancel the third column of the rotation matrix, i.e.:\n",
    "\n",
    "$$\n",
    "\\begin{align}    \n",
    "    \\lambda\n",
    "    \\begin{bmatrix}\n",
    "        x \\\\\n",
    "        y \\\\\n",
    "        1\n",
    "    \\end{bmatrix}\n",
    "    =  \n",
    "    {\\begin{bmatrix}\n",
    "        {\\phi_x} & {\\gamma} & {\\delta_x} & 0 \\\\\n",
    "         0     & {\\phi_y} & {\\delta_y} & 0 \\\\\n",
    "         0     & 0      & 1        & 0 \n",
    "    \\end{bmatrix}}\n",
    "    {\\begin{bmatrix}\n",
    "        {\\omega_{11}} & {\\omega_{12}} & 0 & {\\tau_x} \\\\\n",
    "        {\\omega_{21}} & {\\omega_{22}} & 0 & {\\tau_y} \\\\\n",
    "        {\\omega_{31}} & {\\omega_{32}} & 0 & {\\tau_z} \\\\\n",
    "         0            & 0             & 0 & 1 \n",
    "    \\end{bmatrix}}\n",
    "    \\begin{bmatrix}\n",
    "        u \\\\\n",
    "        v \\\\\n",
    "        0 \\\\\n",
    "        1\n",
    "    \\end{bmatrix}. \n",
    "\\tag{5}\n",
    "\\end{align}\n",
    "$$\n",
    "\n",
    "The resulting transformation simplifies to: \n",
    "\n",
    "$$\n",
    "\\begin{align}    \n",
    "    \\lambda\n",
    "    \\begin{bmatrix}\n",
    "        x \\\\\n",
    "        y \\\\\n",
    "        1\n",
    "    \\end{bmatrix}\n",
    "    =  \n",
    "    \\underbrace{\\begin{bmatrix}\n",
    "        {\\phi_x} & {\\gamma} & {\\delta_x} \\\\\n",
    "         0     & {\\phi_y} & {\\delta_y}  \\\\\n",
    "         0     & 0      & 1        \n",
    "    \\end{bmatrix}\n",
    "    \\begin{bmatrix}\n",
    "        {\\omega_{11}} & {\\omega_{12}}  & {\\tau_x} \\\\\n",
    "        {\\omega_{21}} & {\\omega_{22}}  & {\\tau_y} \\\\\n",
    "        {\\omega_{31}} & {\\omega_{32}}  & {\\tau_z} \n",
    "    \\end{bmatrix}}_{\\text{Homography matrix} \\,\\,\\Phi}\n",
    "    \\begin{bmatrix}\n",
    "        u \\\\\n",
    "        v \\\\\n",
    "        1\n",
    "    \\end{bmatrix}. \n",
    "\\tag{6}\n",
    "\\end{align}\n",
    "$$\n"
   ]
  },
  {
   "cell_type": "markdown",
   "metadata": {},
   "source": [
    "### The matrix of the homography transformation\n",
    "The homography matrix combines the intrinsic parameters and the extrinsic parameters. The extrinsic parameters exclude the third column of the rotation matrix, which makes sense since the scene object is planar and has no depth. \n",
    "\n",
    "$$\n",
    "\\begin{align} \n",
    "   \\begin{bmatrix}\n",
    "       x \\\\\n",
    "       y \\\\\n",
    "       1 \n",
    "   \\end{bmatrix}\n",
    "   =  \n",
    "   \\begin{bmatrix}\n",
    "       \\phi_{11} & \\phi_{12} & \\phi_{13} \\\\\n",
    "       \\phi_{21} & \\phi_{22} & \\phi_{23} \\\\\n",
    "       \\phi_{31} & \\phi_{32} & \\phi_{33} \\\\\n",
    "   \\end{bmatrix}\n",
    "   \\begin{bmatrix}\n",
    "       u \\\\\n",
    "       v \\\\\n",
    "       1 \n",
    "   \\end{bmatrix},\n",
    "\\tag{7}\n",
    " \\end{align}\n",
    "$$\n",
    "\n",
    "or in short: \n",
    "\n",
    "$$\n",
    "\\begin{align} \n",
    "   {\\bf \\tilde{x}} =  \\Phi {\\bf \\tilde{w}}.\n",
    "   \\tag{8}\n",
    " \\end{align}\n",
    "$$\n",
    "\n",
    "### Homography as a 2-D to 2-D mapping\n",
    "\n",
    "We can also see the homography as the projective transformation that maps 2-D shapes to 2-D shapes as shown in Figure 2. In this case, we drop the 3-D interpretation and work only with the two shapes on the plane. The transformation remains the same, and so does its equation, which we can also write in its functional form as: \n",
    "\n",
    "$$\n",
    " \\begin{align} \n",
    "   x =  \\frac{\\phi_{11}u +  \\phi_{12}v + \\phi_{13}}\n",
    "                   {\\phi_{31}u +  \\phi_{32}v + \\phi_{33}} \n",
    " \\,\\,\\,\\,\\,\\,\\,\\, \\text{and}\\,\\,\\,\\,\\,\\,\\,\\,\n",
    "   y =  \\frac{\\phi_{21}u +  \\phi_{22}v + \\phi_{23}}\n",
    "                   {\\phi_{31}u +  \\phi_{32}v + \\phi_{33}}. \n",
    " \\tag{9}\n",
    " \\end{align}\n",
    "$$"
   ]
  },
  {
   "cell_type": "markdown",
   "metadata": {
    "id": "7sKxTBfibjbw"
   },
   "source": [
    "<img src=\"https://github.com/eraldoribeiro/plane2planeTransformation/blob/main/3dplanes_2D.jpg?raw=1\" alt=\"3dplanes_2D\" style=\"zoom:30%;\" />\n",
    "\n",
    "**Figure 2**: Homography transformation is a one-to-one projective mapping between two planar shapes (with corresponding vertices). Both the forward and inverse transformations are defined. "
   ]
  },
  {
   "cell_type": "markdown",
   "metadata": {},
   "source": [
    "This image-to-image interpretation of the homography transformation allows us to predict the location of features from one image to the other."
   ]
  },
  {
   "cell_type": "markdown",
   "metadata": {
    "id": "FAcfB3ofbjbw"
   },
   "source": [
    "## Example: Mapping points using the homography transformation\n",
    "\n",
    "In this example, we create a synthetic homography transformation, and apply it and its inverse to a set of vertices from a planar object. "
   ]
  },
  {
   "cell_type": "code",
   "execution_count": 29,
   "metadata": {
    "id": "sT0OY81Objbx"
   },
   "outputs": [
    {
     "name": "stdout",
     "output_type": "stream",
     "text": [
      "The autoreload extension is already loaded. To reload it, use:\n",
      "  %reload_ext autoreload\n"
     ]
    }
   ],
   "source": [
    "%load_ext autoreload\n",
    "%autoreload 2\n",
    "\n",
    "import numpy as np\n",
    "import cv2 as cv\n",
    "from  matplotlib import pyplot as plt\n",
    "from scipy.optimize import fsolve, root\n",
    "\n",
    "# My imports\n",
    "from homogeneous_coords import HomogeneousCoords\n",
    "\n",
    "\n",
    "%matplotlib inline"
   ]
  },
  {
   "cell_type": "markdown",
   "metadata": {
    "id": "SQ9WEv5Ubjby"
   },
   "source": [
    "### From model points to image points (forward transformation)\n",
    "\n",
    "Let us assume that we have the following homography matrix:"
   ]
  },
  {
   "cell_type": "code",
   "execution_count": 30,
   "metadata": {
    "colab": {
     "base_uri": "https://localhost:8080/"
    },
    "id": "GPvuilqHbjby",
    "outputId": "4d100d52-0352-4a98-cc90-bc0e4fe43788"
   },
   "outputs": [
    {
     "name": "stdout",
     "output_type": "stream",
     "text": [
      "Phi = \n",
      "[[ 2.8599998e-01 -3.2000002e-02 -1.9362000e+01]\n",
      " [ 3.6000002e-02  3.5200000e-01 -4.2282001e+01]\n",
      " [-0.0000000e+00  0.0000000e+00  2.0000000e-01]]\n"
     ]
    }
   ],
   "source": [
    "# An example homography matrix. I scale down the Phi matrix by 1/5. \n",
    "Phi =  (1/5) * np.float32(\n",
    " [[ 1.43, -0.16,  -96.81],\n",
    " [  0.18,  1.76, -211.41],\n",
    " [ -0.00,  0.00,    1.00]]\n",
    ")\n",
    "\n",
    "print(\"Phi = \")\n",
    "print(Phi)"
   ]
  },
  {
   "cell_type": "markdown",
   "metadata": {
    "id": "JhSe81Rwbjbz"
   },
   "source": [
    "We will use the above homography matrix to map the vertices of a square. Here, we will call these vertices *model features* or *model corners*. The coordinates of the vertices of the square are given by: "
   ]
  },
  {
   "cell_type": "code",
   "execution_count": 31,
   "metadata": {
    "colab": {
     "base_uri": "https://localhost:8080/"
    },
    "id": "b2eZZvHdbjbz",
    "outputId": "d66bf6c7-1e55-4f38-ea56-f0f102477b07"
   },
   "outputs": [
    {
     "name": "stdout",
     "output_type": "stream",
     "text": [
      "Model points =\n",
      "[[ 0. 10. 10.  0.]\n",
      " [ 0.  0. 10. 10.]]\n"
     ]
    }
   ],
   "source": [
    "# Model corners (features detected on the model)\n",
    "modelCorners = np.float32([[0,0],[10,0],[10,10],[0,10]])\n",
    "modelCorners = modelCorners.T;\n",
    "\n",
    "print(\"Model points =\")\n",
    "print(modelCorners)"
   ]
  },
  {
   "cell_type": "code",
   "execution_count": 32,
   "metadata": {
    "colab": {
     "base_uri": "https://localhost:8080/",
     "height": 281
    },
    "id": "qCQcABzIbjb0",
    "outputId": "026a2735-5c9a-4ab5-d4df-8c527921d9ac"
   },
   "outputs": [
    {
     "data": {
      "image/png": "[encoded data removed]",
      "text/plain": [
       "<Figure size 640x480 with 1 Axes>"
      ]
     },
     "metadata": {},
     "output_type": "display_data"
    }
   ],
   "source": [
    "# Add coordinates of the first vertex so plot closes polygon when drawing\n",
    "u = np.append(modelCorners[0,:], modelCorners[0,0])\n",
    "v = np.append(modelCorners[1,:], modelCorners[1,0])\n",
    "\n",
    "plt.plot(u,v,'o-b')\n",
    "plt.title(\"Model shape\")\n",
    "plt.show()"
   ]
  },
  {
   "cell_type": "markdown",
   "metadata": {
    "id": "IWNJUanzbjb1"
   },
   "source": [
    "Now, we use the homography matrix to transform the vertices of the model shape, i.e., ${\\bf \\tilde{x}} =  \\Phi {\\bf \\tilde{w}}$. All vertices must be converted to homogeneous coordinates prior to appying the transformation.  "
   ]
  },
  {
   "cell_type": "code",
   "execution_count": 33,
   "metadata": {},
   "outputs": [],
   "source": [
    "# # homogeneous_coords.py\n",
    "# import numpy as np\n",
    "\n",
    "# class HomogeneousCoords:\n",
    "\n",
    "#     @staticmethod\n",
    "#     def cartesian2homogeneous(cartCoords: np.ndarray) -> np.ndarray:\n",
    "#         homogenousCoords = np.vstack((cartCoords, np.ones(cartCoords.shape[1])))\n",
    "#         return homogenousCoords\n",
    "    \n",
    "#     @staticmethod\n",
    "#     def homogeneous2cartesian(homogeneousCoords: np.ndarray) -> np.ndarray:\n",
    "#         cartCoords = homogeneousCoords[0:2, :]\n",
    "#         return cartCoords / homogeneousCoords[2, :]"
   ]
  },
  {
   "cell_type": "code",
   "execution_count": 34,
   "metadata": {
    "colab": {
     "base_uri": "https://localhost:8080/"
    },
    "id": "6IcQjDhgbjb2",
    "outputId": "9632f2ee-d369-4446-c35d-a1c954b428d2"
   },
   "outputs": [
    {
     "name": "stdout",
     "output_type": "stream",
     "text": [
      "x_tilde =\n",
      "[[-19.36199951 -16.50199968 -16.82199969 -19.68199953]\n",
      " [-42.2820015  -41.92200147 -38.40200149 -38.76200151]\n",
      " [  0.2          0.2          0.2          0.2       ]]\n"
     ]
    }
   ],
   "source": [
    "# Convert vertices to homogenous coordinates \n",
    "w_tilde = HomogeneousCoords.cartesian2homogeneous(modelCorners)\n",
    "\n",
    "# Apply transformation \n",
    "x_tilde = np.dot(Phi, w_tilde)\n",
    "x_tilde = Phi @ w_tilde\n",
    "\n",
    "\n",
    "print(\"x_tilde =\")\n",
    "print(x_tilde)\n",
    "\n",
    "# Convert points to Cartesian coordinates prior to plotting\n",
    "imageVertices = HomogeneousCoords.homogeneous2cartesian(x_tilde)"
   ]
  },
  {
   "cell_type": "code",
   "execution_count": 35,
   "metadata": {
    "colab": {
     "base_uri": "https://localhost:8080/",
     "height": 281
    },
    "id": "vpecHLORbjb3",
    "outputId": "491d1d80-d21d-4e38-c518-93ee9b72ffed"
   },
   "outputs": [
    {
     "data": {
      "image/png": "[encoded data removed]",
      "text/plain": [
       "<Figure size 640x480 with 1 Axes>"
      ]
     },
     "metadata": {},
     "output_type": "display_data"
    }
   ],
   "source": [
    "# Append the first vertex so plot() closes the polygon\n",
    "x = np.append(imageVertices[0,:], imageVertices[0,0])\n",
    "y = np.append(imageVertices[1,:], imageVertices[1,0])\n",
    "\n",
    "plt.figure()\n",
    "plt.plot(x,y,'o-r')\n",
    "plt.title(\"Image shape (mapped by the homography)\")\n",
    "plt.show()"
   ]
  },
  {
   "cell_type": "markdown",
   "metadata": {
    "id": "00Sbd6xibjb3"
   },
   "source": [
    "### From image points to model points (inverse transformation)\n",
    "\n",
    "The homography transformation describes a one-to-one mapping between model points and image points. As a result, we can use the homography inverse to map points from the image to the model, i.e., ${\\bf \\tilde{w}} =  \\Phi^{-1} {\\bf \\tilde{x}}$. \n",
    "\n",
    "To show how this works, let's transform the previous (image) shape back to its original (model) shape: "
   ]
  },
  {
   "cell_type": "code",
   "execution_count": 36,
   "metadata": {
    "colab": {
     "base_uri": "https://localhost:8080/"
    },
    "id": "kEEvPCZXbjb3",
    "outputId": "0d7a779a-ecdb-454c-9ff5-38867b3787ea"
   },
   "outputs": [
    {
     "name": "stdout",
     "output_type": "stream",
     "text": [
      "w_tilde_prime = \n",
      " [[1.08440270e-06 1.00000008e+01 1.00000008e+01 1.09262297e-06]\n",
      " [7.31540058e-06 7.29877100e-06 1.00000071e+01 1.00000072e+01]\n",
      " [1.00000001e+00 1.00000001e+00 1.00000001e+00 1.00000001e+00]]\n"
     ]
    }
   ],
   "source": [
    "# Obtain the coordinates of the model shape using the inverse homography \n",
    "w_tilde_prime = np.linalg.inv(Phi) @ x_tilde\n",
    "\n",
    "print(\"w_tilde_prime = \\n\", w_tilde_prime)"
   ]
  },
  {
   "cell_type": "code",
   "execution_count": 37,
   "metadata": {
    "colab": {
     "base_uri": "https://localhost:8080/",
     "height": 281
    },
    "id": "H-3S5KENbjb4",
    "outputId": "01acd07c-767e-43ef-a958-a83f464b068a"
   },
   "outputs": [
    {
     "data": {
      "image/png": "[encoded data removed]",
      "text/plain": [
       "<Figure size 640x480 with 1 Axes>"
      ]
     },
     "metadata": {},
     "output_type": "display_data"
    }
   ],
   "source": [
    "# Convert points to Cartesian coordinates prior to plotting\n",
    "predictedModelVertices = HomogeneousCoords.homogeneous2cartesian(w_tilde_prime)\n",
    "\n",
    "# Append the first vertex so plot() closes the polygon\n",
    "u = np.append(predictedModelVertices[0,:], predictedModelVertices[0,0])\n",
    "v = np.append(predictedModelVertices[1,:], predictedModelVertices[1,0])\n",
    "\n",
    "plt.plot(u,v,'o-g')\n",
    "plt.title(\"Model shape (predicted by the inverse homography)\")\n",
    "plt.show()"
   ]
  }
 ],
 "metadata": {
  "colab": {
   "include_colab_link": true,
   "provenance": []
  },
  "kernelspec": {
   "display_name": "ar_python",
   "language": "python",
   "name": "python3"
  },
  "language_info": {
   "codemirror_mode": {
    "name": "ipython",
    "version": 3
   },
   "file_extension": ".py",
   "mimetype": "text/x-python",
   "name": "python",
   "nbconvert_exporter": "python",
   "pygments_lexer": "ipython3",
   "version": "3.13.2"
  }
 },
 "nbformat": 4,
 "nbformat_minor": 4
}
