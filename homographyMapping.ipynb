{
 "cells": [
  {
   "cell_type": "markdown",
   "metadata": {},
   "source": [
    "# The homography (or planar perspective) transformation\n",
    "\n",
    "\n",
    "The mathemathical notation in these notes follow Prince's book (Computer Vision Models). \n",
    "\n",
    "The (planar) homography transformation is a plane-to-plane mapping that models the imaging geometry of the perspective camera when the camera captures the image of a planar object (e.g., wall, table top, book cover). The homography mapping is depicted in Figure 1.   \n",
    "\n",
    "<img src=\"3dplanes.jpg\" alt=\"geometry01\" style=\"zoom:30%;\" />\n",
    "\n",
    "**Figure 1**: The geometry of the homography transformation. The camera center is located at point $C$. The homography transformation $\\Phi$ maps a plane in the scene to the image plane. This transformation is a one-to-one mapping between the points on the planes. However, the homography does not model the transformation of 3-D points that do not lie on  on the planar surface. \n",
    "\n",
    "## Deriving the homography transformation from the pinhole camera model\n",
    "\n",
    "The equation of the homography transformation can be derived directly from the pinhole camera model by setting the w-coordinates of the scene object (i.e., a plane) to zero, and then re-arranging the resulting projection matrix. \n",
    "\n",
    "Consider the geometry shown in Figure 1. A point ${\\bf w} = (u,v,w)^\\mathsf{T}$ on the planar object maps to an image point ${\\bf x} = (x,y)^\\mathsf{T}$ on the image plane of the pinhole camera according to the following model:\n",
    "\n",
    "$$\n",
    "\\begin{align}\n",
    "{\\bf x} = \\text{pinhole}\\left[{\\bf w}, \\Lambda,\\Omega,\\boldsymbol{\\tau}\\right]. \n",
    "\\label{eq_pinhole}\n",
    "\\end{align}\n",
    "$$\n",
    "\n",
    "Here, $\\Lambda$ is the set of intrinsic parameters, $\\Omega$ is the camera rotation, and $\\boldsymbol{\\tau}$ is the 3-D location of the camera center (i.e., translation). \n",
    "For each world point ${\\bf w}\\in \\mathbb{R}^3$, the pinhole-camera model generates an image point ${\\bf x}\\in \\mathbb{R}^2$. \n",
    "\n",
    "In matrix form (in homogeneous coordinates), the explicit form of the pinhole-camera model in Equation $\\ref{eq_pinhole}$ is:\n",
    "\n",
    "$$\n",
    "\\begin{align}    \n",
    "    \\lambda\n",
    "    \\begin{bmatrix}\n",
    "        x \\\\\n",
    "        y \\\\\n",
    "        1\n",
    "    \\end{bmatrix}\n",
    "    =  \n",
    "    \\underbrace{\\begin{bmatrix}\n",
    "        {\\phi_x} & {\\gamma} & {\\delta_x} & 0 \\\\\n",
    "         0     & {\\phi_y} & {\\delta_y} & 0 \\\\\n",
    "         0     & 0      & 1        & 0 \n",
    "    \\end{bmatrix}}_{\\text{intrinsic matrix}}\n",
    "    \\underbrace{\\begin{bmatrix}\n",
    "        {\\omega_{11}} & {\\omega_{12}} & {\\omega_{13}} & {\\tau_x} \\\\\n",
    "        {\\omega_{21}} & {\\omega_{22}} & {\\omega_{23}} & {\\tau_y} \\\\\n",
    "        {\\omega_{31}} & {\\omega_{32}} & {\\omega_{33}} & {\\tau_z} \\\\\n",
    "         0          & 0           & 0           & 1 \n",
    "    \\end{bmatrix}}_{\\text{extrinsic matrix}}\n",
    "    \\begin{bmatrix}\n",
    "        u \\\\\n",
    "        v \\\\\n",
    "        w \\\\\n",
    "        1\n",
    "    \\end{bmatrix}, \n",
    "    \\label{pinhole_matrix}\n",
    "\\end{align}\n",
    "$$\n",
    "or in short:\n",
    "$$\n",
    "\\begin{align}\n",
    "    \\lambda \\tilde{{\\bf x}} = \n",
    "    \\Lambda\n",
    "    \\begin{bmatrix}\n",
    "        \\Omega & {\\boldsymbol{\\tau}}\n",
    "    \\end{bmatrix} \\tilde{{\\bf w}}. \n",
    "\\end{align}\n",
    "$$\n",
    "\n",
    "The case we are considering is that of a camera capturing the image of a planar object. Since 3-D points lying on the plane have no depth, we set their third coordinate to zero, i.e., ${w = 0}$: \n",
    "$$\n",
    "\\begin{align}    \n",
    "    \\lambda\n",
    "    \\begin{bmatrix}\n",
    "        x \\\\\n",
    "        y \\\\\n",
    "        1\n",
    "    \\end{bmatrix}\n",
    "    =  \n",
    "    {\\begin{bmatrix}\n",
    "        {\\phi_x} & {\\gamma} & {\\delta_x} & 0 \\\\\n",
    "         0     & {\\phi_y} & {\\delta_y} & 0 \\\\\n",
    "         0     & 0      & 1        & 0 \n",
    "    \\end{bmatrix}}\n",
    "    {\\begin{bmatrix}\n",
    "        {\\omega_{11}} & {\\omega_{12}} & {\\omega_{13}} & {\\tau_x} \\\\\n",
    "        {\\omega_{21}} & {\\omega_{22}} & {\\omega_{23}} & {\\tau_y} \\\\\n",
    "        {\\omega_{31}} & {\\omega_{32}} & {\\omega_{33}} & {\\tau_z} \\\\\n",
    "         0          & 0           & 0           & 1 \n",
    "    \\end{bmatrix}}\n",
    "    \\begin{bmatrix}\n",
    "        u \\\\\n",
    "        v \\\\\n",
    "        0 \\\\\n",
    "        1\n",
    "    \\end{bmatrix}, \n",
    "    \\label{pinhole_matrix_zero_w}\n",
    "\\end{align}\n",
    "$$\n",
    "\n",
    "which will cancel the third column of the rotation matrix, i.e.:\n",
    "\n",
    "$$\n",
    "\\begin{align}    \n",
    "    \\lambda\n",
    "    \\begin{bmatrix}\n",
    "        x \\\\\n",
    "        y \\\\\n",
    "        1\n",
    "    \\end{bmatrix}\n",
    "    =  \n",
    "    {\\begin{bmatrix}\n",
    "        {\\phi_x} & {\\gamma} & {\\delta_x} & 0 \\\\\n",
    "         0     & {\\phi_y} & {\\delta_y} & 0 \\\\\n",
    "         0     & 0      & 1        & 0 \n",
    "    \\end{bmatrix}}\n",
    "    {\\begin{bmatrix}\n",
    "        {\\omega_{11}} & {\\omega_{12}} & 0 & {\\tau_x} \\\\\n",
    "        {\\omega_{21}} & {\\omega_{22}} & 0 & {\\tau_y} \\\\\n",
    "        {\\omega_{31}} & {\\omega_{32}} & 0 & {\\tau_z} \\\\\n",
    "         0            & 0             & 0 & 1 \n",
    "    \\end{bmatrix}}\n",
    "    \\begin{bmatrix}\n",
    "        u \\\\\n",
    "        v \\\\\n",
    "        0 \\\\\n",
    "        1\n",
    "    \\end{bmatrix}. \n",
    "    \\label{pinhole_matrix_zero_column}\n",
    "\\end{align}\n",
    "$$\n",
    "\n",
    "The resulting transformation simplifies to: \n",
    "\n",
    "$$\n",
    "\\begin{align}    \n",
    "    \\lambda\n",
    "    \\begin{bmatrix}\n",
    "        x \\\\\n",
    "        y \\\\\n",
    "        1\n",
    "    \\end{bmatrix}\n",
    "    =  \n",
    "    \\underbrace{\\begin{bmatrix}\n",
    "        {\\phi_x} & {\\gamma} & {\\delta_x} \\\\\n",
    "         0     & {\\phi_y} & {\\delta_y}  \\\\\n",
    "         0     & 0      & 1        \n",
    "    \\end{bmatrix}\n",
    "    \\begin{bmatrix}\n",
    "        {\\omega_{11}} & {\\omega_{12}}  & {\\tau_x} \\\\\n",
    "        {\\omega_{21}} & {\\omega_{22}}  & {\\tau_y} \\\\\n",
    "        {\\omega_{31}} & {\\omega_{32}}  & {\\tau_z} \n",
    "    \\end{bmatrix}}_{\\text{Homography matrix} \\,\\,\\Phi}\n",
    "    \\begin{bmatrix}\n",
    "        u \\\\\n",
    "        v \\\\\n",
    "        1\n",
    "    \\end{bmatrix}. \n",
    "    \\label{pinhole_matrix_2}\n",
    "\\end{align}\n",
    "$$\n",
    "\n",
    "The homography matrix combines the intrinsic parameters and the extrinsic parameters. The extrinsic parameters exclude the third column of the rotation matrix, which makes sense since the scene object is planar and has no depth. \n",
    "\n",
    "$$\n",
    "\\begin{align} \n",
    "   \\begin{bmatrix}\n",
    "       x \\\\\n",
    "       y \\\\\n",
    "       1 \n",
    "   \\end{bmatrix}\n",
    "   =  \n",
    "   \\begin{bmatrix}\n",
    "       \\phi_{11} & \\phi_{12} & \\phi_{13} \\\\\n",
    "       \\phi_{21} & \\phi_{22} & \\phi_{23} \\\\\n",
    "       \\phi_{31} & \\phi_{32} & \\phi_{33} \\\\\n",
    "   \\end{bmatrix}\n",
    "   \\begin{bmatrix}\n",
    "       u \\\\\n",
    "       v \\\\\n",
    "       1 \n",
    "   \\end{bmatrix},\n",
    "   \\label{projectivefromobject2image}\n",
    " \\end{align}\n",
    "$$\n",
    "\n",
    "or in short: \n",
    "\n",
    "$$\n",
    "\\begin{align} \n",
    "   {\\bf \\tilde{x}} =  \\Phi {\\bf \\tilde{w}}.\n",
    " \\end{align}\n",
    "$$\n",
    "\n"
   ]
  },
  {
   "cell_type": "markdown",
   "metadata": {},
   "source": [
    "## Example: Mapping points using the homography transformation"
   ]
  },
  {
   "cell_type": "code",
   "execution_count": 1,
   "metadata": {},
   "outputs": [],
   "source": [
    "import numpy as np\n",
    "import cv2 as cv\n",
    "from  matplotlib import pyplot as plt\n",
    "from scipy.optimize import fsolve, root\n",
    "\n",
    "%matplotlib inline"
   ]
  },
  {
   "cell_type": "markdown",
   "metadata": {},
   "source": [
    "### From model points to image points (forward transformation)\n",
    "\n",
    "Let us assume that we have the following homography matrix:"
   ]
  },
  {
   "cell_type": "code",
   "execution_count": 2,
   "metadata": {},
   "outputs": [
    {
     "name": "stdout",
     "output_type": "stream",
     "text": [
      "Phi = \n",
      "[[ 2.8599998e-01 -3.2000002e-02 -1.9362000e+01]\n",
      " [ 3.6000002e-02  3.5200000e-01 -4.2282001e+01]\n",
      " [-0.0000000e+00  0.0000000e+00  2.0000000e-01]]\n"
     ]
    }
   ],
   "source": [
    "# An example homography matrix. I scale down the Phi matrix by 1/5. \n",
    "Phi =  (1/5) * np.float32(\n",
    " [[ 1.43, -0.16,  -96.81],\n",
    " [  0.18,  1.76, -211.41],\n",
    " [ -0.00,  0.00,    1.00]]\n",
    ")\n",
    "\n",
    "print(\"Phi = \")\n",
    "print(Phi)"
   ]
  },
  {
   "cell_type": "markdown",
   "metadata": {},
   "source": [
    "We will use the above homography matrix to map the vertices of a square. Here, we will call these vertices *model features* or *model corners*. The coordinates of the vertices of the square are given by: "
   ]
  },
  {
   "cell_type": "code",
   "execution_count": 3,
   "metadata": {},
   "outputs": [
    {
     "name": "stdout",
     "output_type": "stream",
     "text": [
      "Model points =\n",
      "[[ 0. 10. 10.  0.]\n",
      " [ 0.  0. 10. 10.]]\n"
     ]
    }
   ],
   "source": [
    "# Model corners (features detected on the model)\n",
    "modelCorners = np.float32([[0,0],[10,0],[10,10],[0,10]])\n",
    "modelCorners = modelCorners.T;\n",
    "\n",
    "print(\"Model points =\")\n",
    "print(modelCorners)"
   ]
  },
  {
   "cell_type": "code",
   "execution_count": 4,
   "metadata": {},
   "outputs": [
    {
     "data": {
      "image/png": "[encoded data removed]",
      "text/plain": [
       "<Figure size 432x288 with 1 Axes>"
      ]
     },
     "metadata": {
      "needs_background": "light"
     },
     "output_type": "display_data"
    }
   ],
   "source": [
    "# Add coordinates of the first vertex so plot closes polygon when drawing\n",
    "u = np.append(modelCorners[0,:], modelCorners[0,0])\n",
    "v = np.append(modelCorners[1,:], modelCorners[1,0])\n",
    "\n",
    "plt.plot(u,v,'o-b')\n",
    "plt.title(\"Model shape\")\n",
    "plt.show()"
   ]
  },
  {
   "cell_type": "markdown",
   "metadata": {},
   "source": [
    "Now, we use the homography matrix to transform the vertices of the model shape, i.e., ${\\bf \\tilde{x}} =  \\Phi {\\bf \\tilde{w}}$. All vertices must be converted to homogeneous coordinates prior to appying the transformation.  "
   ]
  },
  {
   "cell_type": "code",
   "execution_count": 5,
   "metadata": {},
   "outputs": [],
   "source": [
    "def cartesian2homogeneous(cartCoords: np.array):\n",
    "    \"\"\"\n",
    "    Convert from Cartesian to Homogenous (Arrays of 2-D points only, for now)\n",
    "\n",
    "    Parameters\n",
    "    ----------\n",
    "    cartCoords: np.array\n",
    "        2xN array containing the coordinates to be converted\n",
    "\n",
    "    Returns\n",
    "    -------\n",
    "    homogenousCoords: np.array\n",
    "        3xN vector in homogeneous coordinates.\n",
    "\n",
    "    \"\"\"\n",
    "    homogenousCoords = np.vstack ((cartCoords, np.ones(cartCoords.shape[1])) )\n",
    "\n",
    "    return homogenousCoords"
   ]
  },
  {
   "cell_type": "code",
   "execution_count": 6,
   "metadata": {},
   "outputs": [],
   "source": [
    "def homogeneous2cartesian(homogeneousCoords: np.array):\n",
    "    \"\"\"\n",
    "    Convert from Cartesian to Homogenous (Arrays of 2-D points only, for now)\n",
    "\n",
    "    Parameters\n",
    "    ----------\n",
    "    homogeneousCoords: np.array\n",
    "        3xN array containing the homogeneous coordinates to be converted\n",
    "\n",
    "    Returns\n",
    "    ------- \n",
    "    cartCoords: np.array\n",
    "        2xN vector in Cartesian coordinates.\n",
    "\n",
    "    \"\"\"\n",
    "    cartCoords = homogeneousCoords[0:2,:]\n",
    "\n",
    "    return cartCoords"
   ]
  },
  {
   "cell_type": "code",
   "execution_count": 7,
   "metadata": {},
   "outputs": [
    {
     "name": "stdout",
     "output_type": "stream",
     "text": [
      "x_tilde =\n",
      "[[-19.36199951 -16.50199968 -16.82199969 -19.68199953]\n",
      " [-42.2820015  -41.92200147 -38.40200149 -38.76200151]\n",
      " [  0.2          0.2          0.2          0.2       ]]\n"
     ]
    }
   ],
   "source": [
    "# Convert vertices to homogenous coordinates \n",
    "w_tilde = cartesian2homogeneous(modelCorners)\n",
    "\n",
    "# Apply transformation \n",
    "x_tilde = np.dot(Phi, w_tilde)\n",
    "x_tilde = Phi @ w_tilde\n",
    "\n",
    "\n",
    "print(\"x_tilde =\")\n",
    "print(x_tilde)\n",
    "\n",
    "# Convert points to Cartesian coordinates prior to plotting\n",
    "imageVertices = homogeneous2cartesian(x_tilde)"
   ]
  },
  {
   "cell_type": "code",
   "execution_count": 8,
   "metadata": {},
   "outputs": [
    {
     "data": {
      "image/png": "[encoded data removed]",
      "text/plain": [
       "<Figure size 432x288 with 1 Axes>"
      ]
     },
     "metadata": {
      "needs_background": "light"
     },
     "output_type": "display_data"
    }
   ],
   "source": [
    "# Append the first vertex so plot() closes the polygon\n",
    "x = np.append(imageVertices[0,:], imageVertices[0,0])\n",
    "y = np.append(imageVertices[1,:], imageVertices[1,0])\n",
    "\n",
    "plt.plot(x,y,'o-r')\n",
    "plt.title(\"Image shape (mapped by the homography)\")\n",
    "plt.show()"
   ]
  },
  {
   "cell_type": "markdown",
   "metadata": {},
   "source": [
    "### From image points to model points (inverse transformation)\n",
    "\n",
    "Since the homography transformation describes a one-to-one mapping between model points and image points, we can use the homography inverse to map points from the image to the model, i.e., ${\\bf \\tilde{w}} =  \\Phi^{-1} {\\bf \\tilde{x}}$. \n",
    "\n",
    "To show how this works, let's transform the image shape back to its original (model) shape: "
   ]
  },
  {
   "cell_type": "code",
   "execution_count": 9,
   "metadata": {},
   "outputs": [
    {
     "name": "stdout",
     "output_type": "stream",
     "text": [
      "w_tilde_prime = \n",
      " [[1.08440270e-06 1.00000008e+01 1.00000008e+01 1.09262297e-06]\n",
      " [7.31540058e-06 7.29877100e-06 1.00000071e+01 1.00000072e+01]\n",
      " [1.00000001e+00 1.00000001e+00 1.00000001e+00 1.00000001e+00]]\n"
     ]
    }
   ],
   "source": [
    "# Obtain the coordinates of the model shape using the inverse homography \n",
    "w_tilde_prime = np.linalg.inv(Phi) @ x_tilde\n",
    "\n",
    "print(\"w_tilde_prime = \\n\", w_tilde_prime)"
   ]
  },
  {
   "cell_type": "code",
   "execution_count": 10,
   "metadata": {},
   "outputs": [
    {
     "data": {
      "image/png": "[encoded data removed]",
      "text/plain": [
       "<Figure size 432x288 with 1 Axes>"
      ]
     },
     "metadata": {
      "needs_background": "light"
     },
     "output_type": "display_data"
    }
   ],
   "source": [
    "# Convert points to Cartesian coordinates prior to plotting\n",
    "predictedModelVertices = homogeneous2cartesian(w_tilde_prime)\n",
    "\n",
    "# Append the first vertex so plot() closes the polygon\n",
    "u = np.append(predictedModelVertices[0,:], predictedModelVertices[0,0])\n",
    "v = np.append(predictedModelVertices[1,:], predictedModelVertices[1,0])\n",
    "\n",
    "plt.plot(u,v,'o-g')\n",
    "plt.title(\"Model shape (predicted by the inverse homography)\")\n",
    "plt.show()"
   ]
  }
 ],
 "metadata": {
  "kernelspec": {
   "display_name": "Python 3",
   "language": "python",
   "name": "python3"
  },
  "language_info": {
   "codemirror_mode": {
    "name": "ipython",
    "version": 3
   },
   "file_extension": ".py",
   "mimetype": "text/x-python",
   "name": "python",
   "nbconvert_exporter": "python",
   "pygments_lexer": "ipython3",
   "version": "3.9.2"
  }
 },
 "nbformat": 4,
 "nbformat_minor": 4
}
